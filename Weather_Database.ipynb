{
 "cells": [
  {
   "cell_type": "code",
   "execution_count": 1,
   "metadata": {},
   "outputs": [],
   "source": [
    "#Import the dependencies.\n",
    "import pandas as pd\n",
    "import numpy as np\n",
    "import matplotlib.pyplot as plt"
   ]
  },
  {
   "cell_type": "code",
   "execution_count": 2,
   "metadata": {},
   "outputs": [
    {
     "data": {
      "text/plain": [
       "<zip at 0x242b9253748>"
      ]
     },
     "execution_count": 2,
     "metadata": {},
     "output_type": "execute_result"
    }
   ],
   "source": [
    "# Generate a new set of 1,500 random latitudes and longitudes.\n",
    "lats = np.random.uniform(low=-90.000, high=90.000, size=1500)\n",
    "lngs = np.random.uniform(low=-180.000, high=180.000, size=1500)\n",
    "lats_lngs = zip(lats, lngs)\n",
    "lats_lngs"
   ]
  },
  {
   "cell_type": "code",
   "execution_count": 3,
   "metadata": {},
   "outputs": [],
   "source": [
    "# Add the latitudes and longitudes in a list.\n",
    "coordinates = list(lats_lngs)"
   ]
  },
  {
   "cell_type": "code",
   "execution_count": 4,
   "metadata": {},
   "outputs": [],
   "source": [
    "# import the citipy module.\n",
    "from citipy import citipy"
   ]
  },
  {
   "cell_type": "code",
   "execution_count": 5,
   "metadata": {},
   "outputs": [
    {
     "data": {
      "text/plain": [
       "604"
      ]
     },
     "execution_count": 5,
     "metadata": {},
     "output_type": "execute_result"
    }
   ],
   "source": [
    "#Create a list for holding the names of cities.\n",
    "cities = []\n",
    "#Identify the nearest city for each latitude and longitude combination.\n",
    "for coordinate in coordinates:\n",
    "    city = citipy.nearest_city(coordinate[0], coordinate[1]).city_name\n",
    "    \n",
    "    #If the city is unique, then we will add it to the cities list.\n",
    "    if city not in cities:\n",
    "        cities.append(city)\n",
    "        \n",
    "# Print the city count to confirm sufficient count.\n",
    "len(cities)\n"
   ]
  },
  {
   "cell_type": "code",
   "execution_count": 6,
   "metadata": {},
   "outputs": [],
   "source": [
    "# Import the requests library.\n",
    "import requests\n",
    "\n",
    "#Import the API key.\n",
    "from config import weather_api_key"
   ]
  },
  {
   "cell_type": "code",
   "execution_count": 7,
   "metadata": {},
   "outputs": [],
   "source": [
    "# Starting URL for weather map API call.\n",
    "url=\"http://api.openweathermap.org/data/2.5/weather?units=Imperial&APPID=\" + weather_api_key"
   ]
  },
  {
   "cell_type": "code",
   "execution_count": 8,
   "metadata": {},
   "outputs": [],
   "source": [
    "#Import the datetime module from the datetime library.\n",
    "from datetime import datetime"
   ]
  },
  {
   "cell_type": "code",
   "execution_count": null,
   "metadata": {},
   "outputs": [],
   "source": [
    "#Create an empty list to hold the weather data.\n",
    "city_data = []\n",
    "\n",
    "# Print the beginning of the logging.\n",
    "print(\"Beginning Data Retrieval     \")\n",
    "print(\"-----------------------------\")\n",
    "\n",
    "#Create counters.\n",
    "record_count = 1\n",
    "set_count = 1\n",
    "\n",
    "# Loop through all the cities in our list.\n",
    "for i, city in enumerate(cities):\n",
    "    \n",
    "    # Group cities in sets of 50 for logging purposes.\n",
    "    if(i % 50 ==0 and i>=50):\n",
    "        set_count += 1\n",
    "        record_count = 1\n",
    "        \n",
    "    #Create endpoint url for each city.\n",
    "    city_url = url + \"&q=\" + city\n",
    "        \n",
    "    #log the url,record, and set numbers and the city.\n",
    "    print(f\"Processing Record {record_count} of Set {set_count} | {city}\")\n",
    "        \n",
    "    #Add 1 to the record count.\n",
    "    record_count += 1\n",
    "        \n",
    "    #Run an API request for each of the cities.\n",
    "    try:\n",
    "         #Parse the JSON and retrieve the data.\n",
    "        city_weather = requests.get(city_url).json()\n",
    "        #Parse out the needed data.\n",
    "        city_lat = city_weather[\"coord\"][\"lat\"]\n",
    "        city_lng = city_weather[\"coord\"][\"lon\"]\n",
    "        city_max_temp = city_weather[\"main\"][\"temp_max\"]\n",
    "        city_humidity = city_weather[\"main\"][\"humidity\"]\n",
    "        city_clouds = city_weather[\"clouds\"][\"all\"]\n",
    "        city_wind = city_weather[\"wind\"][\"speed\"]\n",
    "        city_country = city_weather[\"sys\"][\"country\"]\n",
    "        city_weather_description=city_weather[\"weather\"][\"description\"]\n",
    "            \n",
    "        # Convert the date to ISO standard.\n",
    "        city_date = datetime.utcfromtimestamp(city_weather[\"dt\"]).strftime('%Y-%m-%d %H:%M:%S')\n",
    "            \n",
    "        #Append the city information into city_data list.\n",
    "        city_data.append({\"City\": city.title(),\n",
    "                             \"Lat\": city_lat,\n",
    "                             \"Lng\": city_lng,\n",
    "                             \"Max Temp\": city_max_temp,\n",
    "                             \"Humidity\": city_humidity,\n",
    "                             \"Cloudiness\": city_clouds,\n",
    "                             \"Wind Speed\": city_wind,\n",
    "                             \"Country\": city_country,\n",
    "                             \"Date\": city_date,\n",
    "                             \"Current description\":city_weather_description})\n",
    "    #If an error is experienced, skip the city.\n",
    "    except:\n",
    "        print(\"City not found. Skipping...\")\n",
    "        pass\n",
    "#Indicate the data loading is complete.\n",
    "print(\"------------------------------\")\n",
    "print(\"Data Retrieval Complete       \")\n",
    "print(\"------------------------------\")       \n",
    "        "
   ]
  },
  {
   "cell_type": "code",
   "execution_count": null,
   "metadata": {},
   "outputs": [],
   "source": []
  },
  {
   "cell_type": "code",
   "execution_count": null,
   "metadata": {},
   "outputs": [],
   "source": []
  },
  {
   "cell_type": "code",
   "execution_count": null,
   "metadata": {},
   "outputs": [],
   "source": []
  }
 ],
 "metadata": {
  "kernelspec": {
   "display_name": "PythonData",
   "language": "python",
   "name": "pythondata"
  },
  "language_info": {
   "codemirror_mode": {
    "name": "ipython",
    "version": 3
   },
   "file_extension": ".py",
   "mimetype": "text/x-python",
   "name": "python",
   "nbconvert_exporter": "python",
   "pygments_lexer": "ipython3",
   "version": "3.7.6"
  }
 },
 "nbformat": 4,
 "nbformat_minor": 4
}
